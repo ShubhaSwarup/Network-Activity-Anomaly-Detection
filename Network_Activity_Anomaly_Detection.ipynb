{
  "nbformat": 4,
  "nbformat_minor": 0,
  "metadata": {
    "colab": {
      "provenance": []
    },
    "kernelspec": {
      "name": "python3",
      "display_name": "Python 3"
    },
    "language_info": {
      "name": "python"
    }
  },
  "cells": [
    {
      "cell_type": "code",
      "source": [
        "import pandas as pd\n",
        "from sklearn.preprocessing import StandardScaler\n",
        "from sklearn.model_selection import train_test_split, cross_val_score\n",
        "from sklearn.ensemble import RandomForestClassifier\n",
        "from sklearn.metrics import f1_score"
      ],
      "metadata": {
        "id": "wNiiSDoLAqA9"
      },
      "execution_count": null,
      "outputs": []
    },
    {
      "cell_type": "code",
      "execution_count": null,
      "metadata": {
        "colab": {
          "base_uri": "https://localhost:8080/"
        },
        "id": "BWX3VhEl2dJ4",
        "outputId": "77fea012-07df-41f5-aa66-31b70b37f966"
      },
      "outputs": [
        {
          "output_type": "stream",
          "name": "stdout",
          "text": [
            "   duration protocoltype      service flag  srcbytes  dstbytes  land  \\\n",
            "0         0          tcp  netbios_dgm  REJ         0         0     0   \n",
            "1         0          tcp         smtp   SF      1239       400     0   \n",
            "2         0          tcp         http   SF       222       945     0   \n",
            "3         0          tcp         http   SF       235      1380     0   \n",
            "4         0          tcp    uucp_path  REJ         0         0     0   \n",
            "\n",
            "   wrongfragment  urgent  hot  ...  dsthostsamesrvrate  dsthostdiffsrvrate  \\\n",
            "0              0       0    0  ...                0.06                0.06   \n",
            "1              0       0    0  ...                0.45                0.04   \n",
            "2              0       0    0  ...                1.00                0.00   \n",
            "3              0       0    0  ...                1.00                0.00   \n",
            "4              0       0    0  ...                0.01                0.08   \n",
            "\n",
            "   dsthostsamesrcportrate  dsthostsrvdiffhostrate  dsthostserrorrate  \\\n",
            "0                    0.00                    0.00               0.00   \n",
            "1                    0.00                    0.00               0.11   \n",
            "2                    0.02                    0.03               0.00   \n",
            "3                    0.00                    0.00               0.00   \n",
            "4                    0.00                    0.00               0.00   \n",
            "\n",
            "   dsthostsrvserrorrate  dsthostrerrorrate  dsthostsrvrerrorrate  lastflag  \\\n",
            "0                   0.0               1.00                   1.0        21   \n",
            "1                   0.0               0.02                   0.0        18   \n",
            "2                   0.0               0.00                   0.0        21   \n",
            "3                   0.0               0.00                   0.0        21   \n",
            "4                   0.0               1.00                   1.0        19   \n",
            "\n",
            "   attack  \n",
            "0       1  \n",
            "1       0  \n",
            "2       0  \n",
            "3       0  \n",
            "4       1  \n",
            "\n",
            "[5 rows x 43 columns]\n"
          ]
        }
      ],
      "source": [
        "# Load the datasets\n",
        "test_data = pd.read_csv('/content/Test_Data.csv')\n",
        "train_data = pd.read_csv('/content/Train_Data.csv')\n",
        "sample_submission = pd.read_csv('/content/submission.csv')\n",
        "\n",
        "# Display the first few rows of the training data\n",
        "print(train_data.head())\n"
      ]
    },
    {
      "cell_type": "code",
      "source": [
        "\n",
        "# Assuming the target column name is 'attack'\n",
        "target_column = 'attack'  # Adjust this if the actual column name is different"
      ],
      "metadata": {
        "id": "By55B5fXA3Xo"
      },
      "execution_count": null,
      "outputs": []
    },
    {
      "cell_type": "code",
      "source": [
        "# Separate features and target variable from training data\n",
        "X = train_data.drop(columns=[target_column])\n",
        "y = train_data[target_column]"
      ],
      "metadata": {
        "id": "VTl6Xl69Bp-q"
      },
      "execution_count": null,
      "outputs": []
    },
    {
      "cell_type": "code",
      "source": [
        "# Check for missing values\n",
        "print(X.isnull().sum())"
      ],
      "metadata": {
        "colab": {
          "base_uri": "https://localhost:8080/"
        },
        "id": "oOWWDgFhBssy",
        "outputId": "9abe45cb-f554-4b57-a8e5-a06130fdb432"
      },
      "execution_count": null,
      "outputs": [
        {
          "output_type": "stream",
          "name": "stdout",
          "text": [
            "duration                  0\n",
            "protocoltype              0\n",
            "service                   0\n",
            "flag                      0\n",
            "srcbytes                  0\n",
            "dstbytes                  0\n",
            "land                      0\n",
            "wrongfragment             0\n",
            "urgent                    0\n",
            "hot                       0\n",
            "numfailedlogins           0\n",
            "loggedin                  0\n",
            "numcompromised            0\n",
            "rootshell                 0\n",
            "suattempted               0\n",
            "numroot                   0\n",
            "numfilecreations          0\n",
            "numshells                 0\n",
            "numaccessfiles            0\n",
            "numoutboundcmds           0\n",
            "ishostlogin               0\n",
            "isguestlogin              0\n",
            "count                     0\n",
            "srvcount                  0\n",
            "serrorrate                0\n",
            "srvserrorrate             0\n",
            "rerrorrate                0\n",
            "srvrerrorrate             0\n",
            "samesrvrate               0\n",
            "diffsrvrate               0\n",
            "srvdiffhostrate           0\n",
            "dsthostcount              0\n",
            "dsthostsrvcount           0\n",
            "dsthostsamesrvrate        0\n",
            "dsthostdiffsrvrate        0\n",
            "dsthostsamesrcportrate    0\n",
            "dsthostsrvdiffhostrate    0\n",
            "dsthostserrorrate         0\n",
            "dsthostsrvserrorrate      0\n",
            "dsthostrerrorrate         0\n",
            "dsthostsrvrerrorrate      0\n",
            "lastflag                  0\n",
            "dtype: int64\n"
          ]
        }
      ]
    },
    {
      "cell_type": "code",
      "source": [
        "# Encode categorical variables\n",
        "categorical_columns = ['protocoltype', 'service', 'flag']\n",
        "X_encoded = pd.get_dummies(X, columns=categorical_columns)\n",
        "test_data_encoded = pd.get_dummies(test_data, columns=categorical_columns)"
      ],
      "metadata": {
        "id": "yct0O2a-DNdn"
      },
      "execution_count": null,
      "outputs": []
    },
    {
      "cell_type": "code",
      "source": [
        "# Align the test data to ensure it has the same columns as the training data\n",
        "test_data_encoded = test_data_encoded.reindex(columns=X_encoded.columns, fill_value=0)\n"
      ],
      "metadata": {
        "id": "5OehSh1fDkg-"
      },
      "execution_count": null,
      "outputs": []
    },
    {
      "cell_type": "code",
      "source": [
        "# Feature scaling\n",
        "scaler = StandardScaler()\n",
        "X_scaled = scaler.fit_transform(X_encoded)\n",
        "test_data_scaled = scaler.transform(test_data_encoded)\n"
      ],
      "metadata": {
        "id": "3S4-82dwDl6b"
      },
      "execution_count": null,
      "outputs": []
    },
    {
      "cell_type": "code",
      "source": [
        "# Split the data into training and validation sets\n",
        "X_train, X_val, y_train, y_val = train_test_split(X_scaled, y, test_size=0.2, random_state=42)"
      ],
      "metadata": {
        "id": "nhVRoroUDr8u"
      },
      "execution_count": null,
      "outputs": []
    },
    {
      "cell_type": "code",
      "source": [
        "# Initialize and train the model\n",
        "model = RandomForestClassifier(random_state=42)\n",
        "model.fit(X_train, y_train)"
      ],
      "metadata": {
        "colab": {
          "base_uri": "https://localhost:8080/",
          "height": 75
        },
        "id": "VeDRxGjwDwC_",
        "outputId": "7ad8ae75-86d2-4dcc-8a00-77aa41b25ac9"
      },
      "execution_count": null,
      "outputs": [
        {
          "output_type": "execute_result",
          "data": {
            "text/plain": [
              "RandomForestClassifier(random_state=42)"
            ],
            "text/html": [
              "<style>#sk-container-id-1 {color: black;background-color: white;}#sk-container-id-1 pre{padding: 0;}#sk-container-id-1 div.sk-toggleable {background-color: white;}#sk-container-id-1 label.sk-toggleable__label {cursor: pointer;display: block;width: 100%;margin-bottom: 0;padding: 0.3em;box-sizing: border-box;text-align: center;}#sk-container-id-1 label.sk-toggleable__label-arrow:before {content: \"▸\";float: left;margin-right: 0.25em;color: #696969;}#sk-container-id-1 label.sk-toggleable__label-arrow:hover:before {color: black;}#sk-container-id-1 div.sk-estimator:hover label.sk-toggleable__label-arrow:before {color: black;}#sk-container-id-1 div.sk-toggleable__content {max-height: 0;max-width: 0;overflow: hidden;text-align: left;background-color: #f0f8ff;}#sk-container-id-1 div.sk-toggleable__content pre {margin: 0.2em;color: black;border-radius: 0.25em;background-color: #f0f8ff;}#sk-container-id-1 input.sk-toggleable__control:checked~div.sk-toggleable__content {max-height: 200px;max-width: 100%;overflow: auto;}#sk-container-id-1 input.sk-toggleable__control:checked~label.sk-toggleable__label-arrow:before {content: \"▾\";}#sk-container-id-1 div.sk-estimator input.sk-toggleable__control:checked~label.sk-toggleable__label {background-color: #d4ebff;}#sk-container-id-1 div.sk-label input.sk-toggleable__control:checked~label.sk-toggleable__label {background-color: #d4ebff;}#sk-container-id-1 input.sk-hidden--visually {border: 0;clip: rect(1px 1px 1px 1px);clip: rect(1px, 1px, 1px, 1px);height: 1px;margin: -1px;overflow: hidden;padding: 0;position: absolute;width: 1px;}#sk-container-id-1 div.sk-estimator {font-family: monospace;background-color: #f0f8ff;border: 1px dotted black;border-radius: 0.25em;box-sizing: border-box;margin-bottom: 0.5em;}#sk-container-id-1 div.sk-estimator:hover {background-color: #d4ebff;}#sk-container-id-1 div.sk-parallel-item::after {content: \"\";width: 100%;border-bottom: 1px solid gray;flex-grow: 1;}#sk-container-id-1 div.sk-label:hover label.sk-toggleable__label {background-color: #d4ebff;}#sk-container-id-1 div.sk-serial::before {content: \"\";position: absolute;border-left: 1px solid gray;box-sizing: border-box;top: 0;bottom: 0;left: 50%;z-index: 0;}#sk-container-id-1 div.sk-serial {display: flex;flex-direction: column;align-items: center;background-color: white;padding-right: 0.2em;padding-left: 0.2em;position: relative;}#sk-container-id-1 div.sk-item {position: relative;z-index: 1;}#sk-container-id-1 div.sk-parallel {display: flex;align-items: stretch;justify-content: center;background-color: white;position: relative;}#sk-container-id-1 div.sk-item::before, #sk-container-id-1 div.sk-parallel-item::before {content: \"\";position: absolute;border-left: 1px solid gray;box-sizing: border-box;top: 0;bottom: 0;left: 50%;z-index: -1;}#sk-container-id-1 div.sk-parallel-item {display: flex;flex-direction: column;z-index: 1;position: relative;background-color: white;}#sk-container-id-1 div.sk-parallel-item:first-child::after {align-self: flex-end;width: 50%;}#sk-container-id-1 div.sk-parallel-item:last-child::after {align-self: flex-start;width: 50%;}#sk-container-id-1 div.sk-parallel-item:only-child::after {width: 0;}#sk-container-id-1 div.sk-dashed-wrapped {border: 1px dashed gray;margin: 0 0.4em 0.5em 0.4em;box-sizing: border-box;padding-bottom: 0.4em;background-color: white;}#sk-container-id-1 div.sk-label label {font-family: monospace;font-weight: bold;display: inline-block;line-height: 1.2em;}#sk-container-id-1 div.sk-label-container {text-align: center;}#sk-container-id-1 div.sk-container {/* jupyter's `normalize.less` sets `[hidden] { display: none; }` but bootstrap.min.css set `[hidden] { display: none !important; }` so we also need the `!important` here to be able to override the default hidden behavior on the sphinx rendered scikit-learn.org. See: https://github.com/scikit-learn/scikit-learn/issues/21755 */display: inline-block !important;position: relative;}#sk-container-id-1 div.sk-text-repr-fallback {display: none;}</style><div id=\"sk-container-id-1\" class=\"sk-top-container\"><div class=\"sk-text-repr-fallback\"><pre>RandomForestClassifier(random_state=42)</pre><b>In a Jupyter environment, please rerun this cell to show the HTML representation or trust the notebook. <br />On GitHub, the HTML representation is unable to render, please try loading this page with nbviewer.org.</b></div><div class=\"sk-container\" hidden><div class=\"sk-item\"><div class=\"sk-estimator sk-toggleable\"><input class=\"sk-toggleable__control sk-hidden--visually\" id=\"sk-estimator-id-1\" type=\"checkbox\" checked><label for=\"sk-estimator-id-1\" class=\"sk-toggleable__label sk-toggleable__label-arrow\">RandomForestClassifier</label><div class=\"sk-toggleable__content\"><pre>RandomForestClassifier(random_state=42)</pre></div></div></div></div></div>"
            ]
          },
          "metadata": {},
          "execution_count": 22
        }
      ]
    },
    {
      "cell_type": "code",
      "source": [
        "# Evaluate the model\n",
        "y_val_pred = model.predict(X_val)\n",
        "f1 = f1_score(y_val, y_val_pred)\n",
        "print(f\"F1 Score on Validation Set: {f1}\")"
      ],
      "metadata": {
        "colab": {
          "base_uri": "https://localhost:8080/"
        },
        "id": "p7NRLkaLDz-A",
        "outputId": "351c4227-7b5f-45c9-9bd2-3d989e654281"
      },
      "execution_count": null,
      "outputs": [
        {
          "output_type": "stream",
          "name": "stdout",
          "text": [
            "F1 Score on Validation Set: 1.0\n"
          ]
        }
      ]
    },
    {
      "cell_type": "code",
      "source": [
        "# Cross-validation to check model performance\n",
        "cv_scores = cross_val_score(model, X_scaled, y, cv=5, scoring='f1')\n",
        "print(f\"Cross-validated F1 Score: {cv_scores.mean()}\")"
      ],
      "metadata": {
        "colab": {
          "base_uri": "https://localhost:8080/"
        },
        "id": "E93Ga7xaD8t5",
        "outputId": "50e7850b-fb18-4e63-fbd5-28048cbb437a"
      },
      "execution_count": null,
      "outputs": [
        {
          "output_type": "stream",
          "name": "stdout",
          "text": [
            "Cross-validated F1 Score: 1.0\n"
          ]
        }
      ]
    },
    {
      "cell_type": "code",
      "source": [
        "# Predict on the test data\n",
        "test_predictions = model.predict(test_data_scaled)"
      ],
      "metadata": {
        "id": "Od7mHj4sELrY"
      },
      "execution_count": null,
      "outputs": []
    },
    {
      "cell_type": "code",
      "source": [
        "# Create the submission DataFrame\n",
        "submission = pd.DataFrame({\n",
        "    'attack': test_predictions\n",
        "})"
      ],
      "metadata": {
        "id": "MVn8x3VeEQlY"
      },
      "execution_count": null,
      "outputs": []
    },
    {
      "cell_type": "code",
      "source": [
        "# Save the submission file\n",
        "submission.to_csv('my_submission.csv', index=False)\n",
        "print(\"Submission file created: my_submission.csv\")"
      ],
      "metadata": {
        "colab": {
          "base_uri": "https://localhost:8080/"
        },
        "id": "NXDk9liTEUb9",
        "outputId": "ae4a50d3-7937-4402-f4c3-ee20632d0869"
      },
      "execution_count": null,
      "outputs": [
        {
          "output_type": "stream",
          "name": "stdout",
          "text": [
            "Submission file created: my_submission.csv\n"
          ]
        }
      ]
    },
    {
      "cell_type": "code",
      "source": [
        "from sklearn.metrics import confusion_matrix, classification_report\n",
        "\n",
        "# Generate the confusion matrix\n",
        "conf_matrix = confusion_matrix(y_val, y_val_pred)\n",
        "print(\"Confusion Matrix:\")\n",
        "print(conf_matrix)\n",
        "\n",
        "# Classification report\n",
        "report = classification_report(y_val, y_val_pred)\n",
        "print(\"Classification Report:\")\n",
        "print(report)\n"
      ],
      "metadata": {
        "colab": {
          "base_uri": "https://localhost:8080/"
        },
        "id": "pJ2fm937EZCI",
        "outputId": "b0143afa-6cc7-4969-cbaf-1301144eaf69"
      },
      "execution_count": null,
      "outputs": [
        {
          "output_type": "stream",
          "name": "stdout",
          "text": [
            "Confusion Matrix:\n",
            "[[10762     0]\n",
            " [    0  6607]]\n",
            "Classification Report:\n",
            "              precision    recall  f1-score   support\n",
            "\n",
            "           0       1.00      1.00      1.00     10762\n",
            "           1       1.00      1.00      1.00      6607\n",
            "\n",
            "    accuracy                           1.00     17369\n",
            "   macro avg       1.00      1.00      1.00     17369\n",
            "weighted avg       1.00      1.00      1.00     17369\n",
            "\n"
          ]
        }
      ]
    },
    {
      "cell_type": "code",
      "source": [
        "# Cross-validation to check model performance\n",
        "cv_scores = cross_val_score(model, X_scaled, y, cv=5, scoring='f1')\n",
        "print(f\"Cross-validated F1 Scores: {cv_scores}\")\n",
        "print(f\"Mean Cross-validated F1 Score: {cv_scores.mean()}\")\n"
      ],
      "metadata": {
        "colab": {
          "base_uri": "https://localhost:8080/"
        },
        "id": "kCcUKbj3F-6u",
        "outputId": "5fd9b370-08e8-4cde-ed52-32f4721d1612"
      },
      "execution_count": null,
      "outputs": [
        {
          "output_type": "stream",
          "name": "stdout",
          "text": [
            "Cross-validated F1 Scores: [1. 1. 1. 1. 1.]\n",
            "Mean Cross-validated F1 Score: 1.0\n"
          ]
        }
      ]
    },
    {
      "cell_type": "markdown",
      "source": [],
      "metadata": {
        "id": "8JbQBfeUaJeJ"
      }
    },
    {
      "cell_type": "code",
      "source": [],
      "metadata": {
        "id": "6Yr1G-7bZa7P"
      },
      "execution_count": null,
      "outputs": []
    }
  ]
}